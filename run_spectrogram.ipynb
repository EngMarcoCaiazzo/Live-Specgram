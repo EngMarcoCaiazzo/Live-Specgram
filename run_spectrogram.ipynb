{
 "cells": [
  {
   "cell_type": "code",
   "execution_count": 1,
   "metadata": {},
   "outputs": [],
   "source": [
    "from matplotlib.mlab import window_hanning,specgram\n",
    "import matplotlib.pyplot as plt\n",
    "import matplotlib.animation as animation\n",
    "from matplotlib.colors import LogNorm\n",
    "import numpy as np"
   ]
  },
  {
   "cell_type": "code",
   "execution_count": 2,
   "metadata": {},
   "outputs": [],
   "source": [
    "%matplotlib widget"
   ]
  },
  {
   "cell_type": "code",
   "execution_count": 3,
   "metadata": {},
   "outputs": [],
   "source": [
    "import mic_read"
   ]
  },
  {
   "cell_type": "code",
   "execution_count": 4,
   "metadata": {},
   "outputs": [],
   "source": [
    "SAMPLES_PER_FRAME = 10 #Number of mic reads concatenated within a single window\n",
    "nfft = 1024 #NFFT value for spectrogram\n",
    "overlap = 512 #overlap value for spectrogram\n",
    "rate = mic_read.RATE #sampling rate"
   ]
  },
  {
   "cell_type": "code",
   "execution_count": 6,
   "metadata": {},
   "outputs": [],
   "source": [
    "\"\"\"\n",
    "get_sample:\n",
    "gets the audio data from the microphone\n",
    "inputs: audio stream and PyAudio object\n",
    "outputs: int16 array\n",
    "\"\"\"\n",
    "def get_sample(stream,pa):\n",
    "    data = mic_read.get_data(stream,pa)\n",
    "    return data"
   ]
  },
  {
   "cell_type": "code",
   "execution_count": 7,
   "metadata": {},
   "outputs": [],
   "source": [
    "\"\"\"\n",
    "get_specgram:\n",
    "takes the FFT to create a spectrogram of the given audio signal\n",
    "input: audio signal, sampling rate\n",
    "output: 2D Spectrogram Array, Frequency Array, Bin Array\n",
    "see matplotlib.mlab.specgram documentation for help\n",
    "\"\"\"\n",
    "def get_specgram(signal,rate):\n",
    "    arr2D,freqs,bins = specgram(signal,window=window_hanning,\n",
    "                                Fs = rate,NFFT=nfft,noverlap=overlap)\n",
    "    return arr2D,freqs,bins"
   ]
  },
  {
   "cell_type": "code",
   "execution_count": 8,
   "metadata": {},
   "outputs": [],
   "source": [
    "\"\"\"\n",
    "update_fig:\n",
    "updates the image, just adds on samples at the start until the maximum size is\n",
    "reached, at which point it 'scrolls' horizontally by determining how much of the\n",
    "data needs to stay, shifting it left, and appending the new data. \n",
    "inputs: iteration number\n",
    "outputs: updated image\n",
    "\"\"\"\n",
    "def update_fig(n):\n",
    "    data = get_sample(stream,pa)\n",
    "    arr2D,freqs,bins = get_specgram(data,rate)\n",
    "    im_data = im.get_array()\n",
    "    if n < SAMPLES_PER_FRAME:\n",
    "        im_data = np.hstack((im_data,arr2D))\n",
    "        im.set_array(im_data)\n",
    "    else:\n",
    "        keep_block = arr2D.shape[1]*(SAMPLES_PER_FRAME - 1)\n",
    "        im_data = np.delete(im_data,np.s_[:-keep_block],1)\n",
    "        im_data = np.hstack((im_data,arr2D))\n",
    "        im.set_array(im_data)\n",
    "    return im,"
   ]
  },
  {
   "cell_type": "code",
   "execution_count": 11,
   "metadata": {},
   "outputs": [
    {
     "data": {
      "application/vnd.jupyter.widget-view+json": {
       "model_id": "809c4f6e326045149ad034fefd82b6ee",
       "version_major": 2,
       "version_minor": 0
      },
      "text/plain": [
       "FigureCanvasNbAgg()"
      ]
     },
     "metadata": {},
     "output_type": "display_data"
    }
   ],
   "source": [
    "############### Initialize Plot ###############\n",
    "fig = plt.figure()\n",
    "\"\"\"\n",
    "Launch the stream and the original spectrogram\n",
    "\"\"\"\n",
    "stream,pa = mic_read.open_mic()\n",
    "data = get_sample(stream,pa)\n",
    "arr2D,freqs,bins = get_specgram(data,rate)\n",
    "\"\"\"\n",
    "Setup the plot paramters\n",
    "\"\"\"\n",
    "extent = (bins[0],bins[-1]*SAMPLES_PER_FRAME,freqs[-1],freqs[0])\n",
    "im = plt.imshow(arr2D,aspect='auto',extent = extent,interpolation=\"none\",\n",
    "                cmap = 'jet',norm = LogNorm(vmin=.01,vmax=1))\n",
    "plt.xlabel('Time (s)')\n",
    "plt.ylabel('Frequency (Hz)')\n",
    "plt.title('Real Time Spectogram')\n",
    "plt.gca().invert_yaxis()\n",
    "##plt.colorbar() #enable if you want to display a color bar\n",
    "############### Animate ###############\n",
    "anim = animation.FuncAnimation(fig,update_fig,blit = False,\n",
    "                               interval=mic_read.CHUNK_SIZE/1000)\n",
    "try:\n",
    "    plt.show()\n",
    "except:\n",
    "    print(\"Plot Closed\")"
   ]
  },
  {
   "cell_type": "code",
   "execution_count": 12,
   "metadata": {},
   "outputs": [
    {
     "name": "stdout",
     "output_type": "stream",
     "text": [
      "Program Terminated\n"
     ]
    }
   ],
   "source": [
    "############### Terminate ###############\n",
    "stream.stop_stream()\n",
    "stream.close()\n",
    "pa.terminate()\n",
    "print(\"Program Terminated\")"
   ]
  },
  {
   "cell_type": "code",
   "execution_count": null,
   "metadata": {},
   "outputs": [],
   "source": []
  }
 ],
 "metadata": {
  "kernelspec": {
   "display_name": "Python 3",
   "language": "python",
   "name": "python3"
  },
  "language_info": {
   "codemirror_mode": {
    "name": "ipython",
    "version": 3
   },
   "file_extension": ".py",
   "mimetype": "text/x-python",
   "name": "python",
   "nbconvert_exporter": "python",
   "pygments_lexer": "ipython3",
   "version": "3.7.0"
  }
 },
 "nbformat": 4,
 "nbformat_minor": 2
}
